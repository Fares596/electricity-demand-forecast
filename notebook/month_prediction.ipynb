{
 "cells": [
  {
   "cell_type": "code",
   "execution_count": null,
   "id": "ffdefd4e",
   "metadata": {},
   "outputs": [],
   "source": [
    "import pandas as pd\n",
    "import numpy as np\n",
    "import matplotlib.pyplot as plt\n",
    "from sklearn.model_selection import train_test_split\n",
    "from sklearn.multioutput import MultiOutputRegressor\n",
    "from xgboost import XGBRegressor\n",
    "from sklearn.metrics import mean_squared_error\n",
    "import joblib"
   ]
  },
  {
   "cell_type": "code",
   "execution_count": null,
   "id": "10a02394",
   "metadata": {},
   "outputs": [],
   "source": [
    "# charge le fichier prétraité (déjà index datetime)\n",
    "df = pd.read_csv(\"../data/df_preprocessed.csv\", parse_dates=['date_heure'], index_col='date_heure')\n",
    "\n",
    "# vérif rapide\n",
    "print(df.index.min(), df.index.max())\n",
    "df.head()\n"
   ]
  },
  {
   "cell_type": "code",
   "execution_count": null,
   "id": "f1b74b48",
   "metadata": {},
   "outputs": [],
   "source": [
    "# resample daily : sum of MW over the day -> daily MWh-ish (still in MW * 30min steps but sum is fine for relative)\n",
    "df_daily = df['conso_elec_MW'].resample('D').sum().to_frame(name='conso_daily')\n",
    "\n",
    "# diagnostic\n",
    "print(\"Daily length:\", len(df_daily))\n",
    "df_daily.plot(figsize=(12,4), title='Daily consumption (sum of 30min steps)')\n",
    "plt.show()\n"
   ]
  },
  {
   "cell_type": "code",
   "execution_count": null,
   "id": "8f12c0bd",
   "metadata": {},
   "outputs": [],
   "source": [
    "H = 30  # horizon in days\n",
    "for h in range(1, H+1):\n",
    "    df_daily[f'target_j+{h}'] = df_daily['conso_daily'].shift(-h)\n",
    "\n",
    "# On voit les colonnes\n",
    "df_daily.dropna(how='all', subset=[f'target_j+{h}' for h in range(1,H+1)]).shape\n",
    "# Note: on gardera les lignes valides plus bas après création des lags\n"
   ]
  },
  {
   "cell_type": "code",
   "execution_count": null,
   "id": "5df5d187",
   "metadata": {},
   "outputs": [],
   "source": [
    "# lags journaliers utiles (par ex : t-1, t-7, t-14, t-30)\n",
    "lags_days = [1, 2, 3, 7, 14, 30, 365]  # 365 seulement si tu as plusieurs années\n",
    "for lag in lags_days:\n",
    "    df_daily[f'lag_{lag}'] = df_daily['conso_daily'].shift(lag)\n",
    "\n",
    "# features calendaires\n",
    "df_daily['dayofweek'] = df_daily.index.dayofweek\n",
    "df_daily['month'] = df_daily.index.month\n",
    "df_daily['is_weekend'] = df_daily['dayofweek'].isin([5,6]).astype(int)\n",
    "\n",
    "# dropna dû aux lags et targets\n",
    "cols_target = [f'target_j+{h}' for h in range(1,H+1)]\n",
    "cols_features = [f'lag_{lag}' for lag in lags_days] + ['dayofweek','month','is_weekend']\n",
    "df_model = df_daily[cols_features + cols_target].dropna()\n",
    "\n",
    "print(\"Final dataset for modeling:\", df_model.shape)\n",
    "df_model.head()\n"
   ]
  },
  {
   "cell_type": "code",
   "execution_count": null,
   "id": "ccf6fbc1",
   "metadata": {},
   "outputs": [],
   "source": [
    "# option: split by date if tu veux (ex: train <= 2022, val = 2023, test >=2024)\n",
    "# ici split 80/10/10 chronologique\n",
    "n = len(df_model)\n",
    "train_end = int(n * 0.8)\n",
    "val_end = int(n * 0.9)\n",
    "\n",
    "X = df_model[cols_features]\n",
    "Y = df_model[cols_target]\n",
    "\n",
    "X_train, Y_train = X.iloc[:train_end], Y.iloc[:train_end]\n",
    "X_val, Y_val = X.iloc[train_end:val_end], Y.iloc[train_end:val_end]\n",
    "X_test, Y_test = X.iloc[val_end:], Y.iloc[val_end:]\n",
    "\n",
    "print(\"Train,Val,Test sizes:\", X_train.shape, X_val.shape, X_test.shape)\n"
   ]
  },
  {
   "cell_type": "code",
   "execution_count": null,
   "id": "456db973",
   "metadata": {},
   "outputs": [],
   "source": [
    "# create the base estimator\n",
    "base = XGBRegressor(\n",
    "    n_estimators=500,\n",
    "    learning_rate=0.03,\n",
    "    max_depth=5,\n",
    "    subsample=0.8,\n",
    "    colsample_bytree=0.8,\n",
    "    random_state=42,\n",
    "    n_jobs=-1,\n",
    "    verbosity=0\n",
    ")\n",
    "\n",
    "# wrapper multioutput\n",
    "multi_xgb = MultiOutputRegressor(base, n_jobs=-1)\n",
    "\n",
    "# fit on train (optionally you can fit on train+val for final model)\n",
    "multi_xgb.fit(X_train, Y_train)\n",
    "\n",
    "# save model if desired\n",
    "joblib.dump(multi_xgb, \"model/xgb_multi_30d.pkl\")\n",
    "print(\"Model saved: model/xgb_multi_30d.pkl\")\n"
   ]
  },
  {
   "cell_type": "code",
   "execution_count": null,
   "id": "fe7a3946",
   "metadata": {},
   "outputs": [],
   "source": [
    "Y_pred = multi_xgb.predict(X_test)  # shape (n_test, H)\n",
    "Y_pred = pd.DataFrame(Y_pred, index=Y_test.index, columns=Y_test.columns)\n",
    "\n",
    "# calc RMSE per horizon\n",
    "rmse_per_horizon = {}\n",
    "for h_col in Y_test.columns:\n",
    "    rmse = mean_squared_error(Y_test[h_col], Y_pred[h_col], squared=False)\n",
    "    rmse_per_horizon[h_col] = rmse\n",
    "\n",
    "rmse_series = pd.Series(rmse_per_horizon)\n",
    "print(\"RMSE per horizon (first few):\")\n",
    "print(rmse_series.head(10))\n",
    "\n",
    "# plot RMSE vs horizon\n",
    "plt.figure(figsize=(9,4))\n",
    "rmse_series.values.reshape(-1).astype(float)\n",
    "plt.plot(range(1,H+1), rmse_series.values, marker='o')\n",
    "plt.xlabel(\"Horizon (days ahead)\")\n",
    "plt.ylabel(\"RMSE (daily consumption)\")\n",
    "plt.title(\"RMSE by horizon (1..30 days)\")\n",
    "plt.grid()\n",
    "plt.show()\n"
   ]
  },
  {
   "cell_type": "code",
   "execution_count": null,
   "id": "e5e1e155",
   "metadata": {},
   "outputs": [],
   "source": [
    "to_plot = [1, 7, 30]  # horizons to inspect\n",
    "plt.figure(figsize=(15, 4*len(to_plot)))\n",
    "\n",
    "for i, h in enumerate(to_plot, start=1):\n",
    "    plt.subplot(len(to_plot),1,i)\n",
    "    col = f'target_j+{h}'\n",
    "    plt.plot(Y_test.index, Y_test[col], label=f\"True J+{h}\", alpha=0.8)\n",
    "    plt.plot(Y_pred.index, Y_pred[col], label=f\"Pred J+{h}\", alpha=0.8, linestyle='--')\n",
    "    plt.title(f\"True vs Predicted for horizon J+{h}\")\n",
    "    plt.legend()\n",
    "    plt.grid()\n",
    "\n",
    "plt.tight_layout()\n",
    "plt.show()\n"
   ]
  }
 ],
 "metadata": {
  "language_info": {
   "name": "python"
  }
 },
 "nbformat": 4,
 "nbformat_minor": 5
}
