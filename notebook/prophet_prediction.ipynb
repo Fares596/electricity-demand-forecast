{
 "cells": [
  {
   "cell_type": "code",
   "execution_count": null,
   "id": "7e742fa2",
   "metadata": {},
   "outputs": [],
   "source": [
    "from prophet import Prophet\n",
    "import pandas as pd\n",
    "from sklearn.metrics import mean_squared_error\n",
    "import numpy as np\n",
    "import matplotlib.pyplot as plt\n",
    "\n",
    "df = pd.read_csv(\"../data/df_preprocessed.csv\", parse_dates=['date_heure'], index_col='date_heure')\n",
    "df_prophet = df[['conso_elec_MW']].reset_index()\n",
    "df_prophet = df_prophet.rename(columns={'date_heure': 'ds', 'conso_elec_MW': 'y'})\n",
    "\n",
    "train = df_prophet[df_prophet['ds'] < '2024-01-01']\n",
    "test = df_prophet[df_prophet['ds'] >= '2024-01-01']\n",
    "\n",
    "model = Prophet(daily_seasonality=True, yearly_seasonality=True, weekly_seasonality=True)\n",
    "model.fit(train)\n",
    "\n",
    "future = model.make_future_dataframe(periods=len(test), freq='30min')\n",
    "forecast = model.predict(future)\n",
    "\n",
    "y_true = test['y'].values\n",
    "y_pred = forecast.set_index('ds').loc[test['ds'], 'yhat'].values\n",
    "\n",
    "rmse = np.sqrt(mean_squared_error(y_true, y_pred))\n",
    "print(f\"RMSE : {rmse:.2f}\")\n",
    "\n",
    "plt.figure(figsize=(15,5))\n",
    "plt.plot(test['ds'], y_true, label=\"Vraie\")\n",
    "plt.plot(test['ds'], y_pred, label=\"Prédit\", linestyle='--')\n",
    "plt.legend()\n",
    "plt.show()$\n"
   ]
  }
 ],
 "metadata": {
  "language_info": {
   "name": "python"
  }
 },
 "nbformat": 4,
 "nbformat_minor": 5
}
